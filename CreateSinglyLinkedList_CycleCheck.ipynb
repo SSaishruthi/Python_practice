{
 "cells": [
  {
   "cell_type": "code",
   "execution_count": 13,
   "metadata": {},
   "outputs": [],
   "source": [
    "from nose.tools import assert_equal"
   ]
  },
  {
   "cell_type": "markdown",
   "metadata": {},
   "source": [
    "# Implementation of Singly LinkedList"
   ]
  },
  {
   "cell_type": "code",
   "execution_count": 1,
   "metadata": {},
   "outputs": [],
   "source": [
    "class SinglyLinked(object):\n",
    "    def __init__(self, val):\n",
    "        self.val = val\n",
    "        self.nextnode = None"
   ]
  },
  {
   "cell_type": "code",
   "execution_count": 7,
   "metadata": {},
   "outputs": [],
   "source": [
    "a = SinglyLinked(1)\n",
    "b = SinglyLinked(3)\n",
    "c = SinglyLinked(5)"
   ]
  },
  {
   "cell_type": "code",
   "execution_count": 8,
   "metadata": {},
   "outputs": [],
   "source": [
    "a.nextnode = b\n",
    "b.nextnode = c"
   ]
  },
  {
   "cell_type": "code",
   "execution_count": 9,
   "metadata": {},
   "outputs": [
    {
     "name": "stdout",
     "output_type": "stream",
     "text": [
      "1\n",
      "<__main__.SinglyLinked object at 0x05DD3DD0>\n",
      "3\n"
     ]
    }
   ],
   "source": [
    "print(a.val)\n",
    "print(a.nextnode)\n",
    "print(a.nextnode.val)"
   ]
  },
  {
   "cell_type": "markdown",
   "metadata": {},
   "source": [
    "# Cycle Check"
   ]
  },
  {
   "cell_type": "code",
   "execution_count": 19,
   "metadata": {},
   "outputs": [],
   "source": [
    "def check(startnode):\n",
    "    \n",
    "    cursor1 = startnode\n",
    "    cursor2 = startnode\n",
    "    \n",
    "    #condition for cycle check\n",
    "    while cursor2 != None and cursor2.nextnode != None:\n",
    "        cursor1 = cursor1.nextnode\n",
    "        cursor2 = cursor2.nextnode.nextnode\n",
    "        \n",
    "        while cursor1 ==  cursor2:\n",
    "            return True\n",
    "    \n",
    "    return False"
   ]
  },
  {
   "cell_type": "code",
   "execution_count": 20,
   "metadata": {},
   "outputs": [],
   "source": [
    "e = SinglyLinked(1)\n",
    "f = SinglyLinked(4)\n",
    "g = SinglyLinked(3)\n",
    "#\n",
    "e.nextnode = f\n",
    "f.nextnode = g\n",
    "g.nextnode = e"
   ]
  },
  {
   "cell_type": "code",
   "execution_count": 21,
   "metadata": {},
   "outputs": [],
   "source": [
    "x = SinglyLinked(1)\n",
    "y = SinglyLinked(4)\n",
    "z = SinglyLinked(3)\n",
    "#\n",
    "x.nextnode = y\n",
    "y.nextnode = z"
   ]
  },
  {
   "cell_type": "code",
   "execution_count": 22,
   "metadata": {},
   "outputs": [],
   "source": [
    "assert_equal(check(e),True)"
   ]
  },
  {
   "cell_type": "code",
   "execution_count": 24,
   "metadata": {},
   "outputs": [],
   "source": [
    "assert_equal(check(x),False)"
   ]
  },
  {
   "cell_type": "markdown",
   "metadata": {},
   "source": [
    "# Tree Reversal"
   ]
  },
  {
   "cell_type": "code",
   "execution_count": 25,
   "metadata": {},
   "outputs": [],
   "source": [
    "def reverse(startnode):\n",
    "    \n",
    "    current = startnode\n",
    "    previous = None\n",
    "    nextnode = None\n",
    "    \n",
    "    #\n",
    "    while current:\n",
    "        \n",
    "        #Reversing the nextnode pointer\n",
    "        nextnode = current.nextnode\n",
    "        current.nextnode = previous\n",
    "        \n",
    "        #\n",
    "        previous = current\n",
    "        current = nextnode\n",
    "        \n",
    "    return previous"
   ]
  },
  {
   "cell_type": "code",
   "execution_count": 26,
   "metadata": {},
   "outputs": [],
   "source": [
    "x = SinglyLinked(1)\n",
    "y = SinglyLinked(4)\n",
    "z = SinglyLinked(3)\n",
    "#\n",
    "x.nextnode = y\n",
    "y.nextnode = z"
   ]
  },
  {
   "cell_type": "code",
   "execution_count": 27,
   "metadata": {},
   "outputs": [
    {
     "data": {
      "text/plain": [
       "<__main__.SinglyLinked at 0x5fd9270>"
      ]
     },
     "execution_count": 27,
     "metadata": {},
     "output_type": "execute_result"
    }
   ],
   "source": [
    "reverse(x)"
   ]
  },
  {
   "cell_type": "code",
   "execution_count": 28,
   "metadata": {},
   "outputs": [],
   "source": [
    "x.nextnode"
   ]
  },
  {
   "cell_type": "code",
   "execution_count": 31,
   "metadata": {},
   "outputs": [
    {
     "data": {
      "text/plain": [
       "1"
      ]
     },
     "execution_count": 31,
     "metadata": {},
     "output_type": "execute_result"
    }
   ],
   "source": [
    "y.nextnode.val"
   ]
  },
  {
   "cell_type": "code",
   "execution_count": 32,
   "metadata": {},
   "outputs": [
    {
     "data": {
      "text/plain": [
       "4"
      ]
     },
     "execution_count": 32,
     "metadata": {},
     "output_type": "execute_result"
    }
   ],
   "source": [
    "z.nextnode.val"
   ]
  },
  {
   "cell_type": "markdown",
   "metadata": {},
   "source": [
    "# Return 'n' node from Last Node"
   ]
  },
  {
   "cell_type": "code",
   "execution_count": 40,
   "metadata": {},
   "outputs": [],
   "source": [
    "def traverseN(startnode,n):\n",
    "    \n",
    "    ptr1 = startnode\n",
    "    ptr2 = startnode\n",
    "    #\n",
    "    for i in range(n-1):\n",
    "        ptr1 = ptr1.nextnode\n",
    "    \n",
    "    #Traversing\n",
    "    while ptr1.nextnode:\n",
    "        ptr1 = ptr1.nextnode\n",
    "        ptr2 = ptr2.nextnode\n",
    "        \n",
    "    return ptr2"
   ]
  },
  {
   "cell_type": "code",
   "execution_count": 41,
   "metadata": {},
   "outputs": [],
   "source": [
    "a = SinglyLinked(1)\n",
    "b = SinglyLinked(2)\n",
    "c = SinglyLinked(3)\n",
    "d = SinglyLinked(4)\n",
    "e = SinglyLinked(5)\n",
    "#\n",
    "a.nextnode = b\n",
    "b.nextnode = c\n",
    "c.nextnode = d\n",
    "d.nextnode = e\n",
    "#\n",
    "result = traverseN(a,2)"
   ]
  },
  {
   "cell_type": "code",
   "execution_count": 42,
   "metadata": {},
   "outputs": [
    {
     "data": {
      "text/plain": [
       "4"
      ]
     },
     "execution_count": 42,
     "metadata": {},
     "output_type": "execute_result"
    }
   ],
   "source": [
    "result.val"
   ]
  },
  {
   "cell_type": "code",
   "execution_count": null,
   "metadata": {},
   "outputs": [],
   "source": []
  }
 ],
 "metadata": {
  "kernelspec": {
   "display_name": "Python 3",
   "language": "python",
   "name": "python3"
  },
  "language_info": {
   "codemirror_mode": {
    "name": "ipython",
    "version": 3
   },
   "file_extension": ".py",
   "mimetype": "text/x-python",
   "name": "python",
   "nbconvert_exporter": "python",
   "pygments_lexer": "ipython3",
   "version": "3.6.4"
  }
 },
 "nbformat": 4,
 "nbformat_minor": 2
}
