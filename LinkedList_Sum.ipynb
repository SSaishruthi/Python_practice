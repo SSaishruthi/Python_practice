{
 "cells": [
  {
   "cell_type": "markdown",
   "metadata": {},
   "source": [
    "# Add numbers in linked list"
   ]
  },
  {
   "cell_type": "code",
   "execution_count": 12,
   "metadata": {},
   "outputs": [],
   "source": [
    "class SinglyLinked(object):\n",
    "    def __init__(self, val):\n",
    "        self.val = val\n",
    "        self.next = None"
   ]
  },
  {
   "cell_type": "code",
   "execution_count": 78,
   "metadata": {},
   "outputs": [],
   "source": [
    "#linked list : 1\n",
    "a = SinglyLinked(2)\n",
    "b = SinglyLinked(4)\n",
    "c = SinglyLinked(3)\n",
    "#\n",
    "a.next = b\n",
    "b.next = c\n",
    "\n",
    "#linked list : 2\n",
    "d = SinglyLinked(5)\n",
    "e = SinglyLinked(6)\n",
    "f = SinglyLinked(4)\n",
    "#\n",
    "d.next = e\n",
    "e.next = f"
   ]
  },
  {
   "cell_type": "code",
   "execution_count": 112,
   "metadata": {},
   "outputs": [],
   "source": [
    "#linked list : 1\n",
    "a = SinglyLinked(1)\n",
    "#b = SinglyLinked(8)\n",
    "#\n",
    "#a.next = b\n",
    "\n",
    "#linked list : 2\n",
    "d = SinglyLinked(9)\n",
    "e = SinglyLinked(9)\n",
    "#\n",
    "d.next = e\n",
    "#"
   ]
  },
  {
   "cell_type": "code",
   "execution_count": 113,
   "metadata": {},
   "outputs": [],
   "source": [
    "#Find length of the list\n",
    "def lengthList(head):\n",
    "    \n",
    "    ptr = head\n",
    "    count = 1\n",
    "    #\n",
    "    while ptr.next:\n",
    "        ptr = ptr.next\n",
    "        count += 1\n",
    "        \n",
    "    return count"
   ]
  },
  {
   "cell_type": "code",
   "execution_count": 114,
   "metadata": {},
   "outputs": [
    {
     "name": "stdout",
     "output_type": "stream",
     "text": [
      "length of linkedlist 1: 1\n",
      "length of linkedlist 2:  2\n"
     ]
    }
   ],
   "source": [
    "l1_len = lengthList(a)\n",
    "print(\"length of linkedlist 1:\",(l1_len))\n",
    "l2_len = lengthList(d)\n",
    "print(\"length of linkedlist 2: \",(l2_len))"
   ]
  },
  {
   "cell_type": "code",
   "execution_count": 115,
   "metadata": {},
   "outputs": [],
   "source": [
    "#defining empty list\n",
    "class outputList(object):\n",
    "    def __init__(self, val):\n",
    "        self.val =  val\n",
    "        self.next = None"
   ]
  },
  {
   "cell_type": "code",
   "execution_count": 125,
   "metadata": {},
   "outputs": [],
   "source": [
    "#find sum of two linked list\n",
    "def sumFunction(l1,l2):\n",
    "    \n",
    "    #define carry\n",
    "    head = outputList(0)\n",
    "    current,carry =  head, 0\n",
    "    flag = 'n'\n",
    "    \n",
    "    while l1 and l2:\n",
    "        \n",
    "        print('c1', carry)\n",
    "        sum_ = carry\n",
    "        print(sum_)\n",
    "        #\n",
    "        if l1:\n",
    "            sum_ += l1.val\n",
    "            l1 = l1.next\n",
    "        #\n",
    "        if l2:\n",
    "            sum_ += l2.val\n",
    "            l2 = l2.next\n",
    "        #\n",
    "        #get updated carry and value\n",
    "        carry, sum_ = divmod(sum_, 10)\n",
    "        current.next = outputList(sum_)\n",
    "        current = current.next\n",
    "            \n",
    "        \n",
    "        \n",
    "    if carry == 1:\n",
    "        current.next = outputList(1)\n",
    "        \n",
    "        \n",
    "    #return outputlist\n",
    "    return head.next\n",
    "    \n",
    "    #\n",
    "    \n",
    "    "
   ]
  },
  {
   "cell_type": "code",
   "execution_count": 126,
   "metadata": {},
   "outputs": [
    {
     "name": "stdout",
     "output_type": "stream",
     "text": [
      "c1 0\n",
      "0\n"
     ]
    }
   ],
   "source": [
    "#if (l1_len == l2_len):\n",
    "answer = sumFunction(a,d)"
   ]
  },
  {
   "cell_type": "code",
   "execution_count": 127,
   "metadata": {},
   "outputs": [
    {
     "data": {
      "text/plain": [
       "0"
      ]
     },
     "execution_count": 127,
     "metadata": {},
     "output_type": "execute_result"
    }
   ],
   "source": [
    "answer.val"
   ]
  },
  {
   "cell_type": "code",
   "execution_count": null,
   "metadata": {},
   "outputs": [],
   "source": []
  }
 ],
 "metadata": {
  "kernelspec": {
   "display_name": "Python 3",
   "language": "python",
   "name": "python3"
  },
  "language_info": {
   "codemirror_mode": {
    "name": "ipython",
    "version": 3
   },
   "file_extension": ".py",
   "mimetype": "text/x-python",
   "name": "python",
   "nbconvert_exporter": "python",
   "pygments_lexer": "ipython3",
   "version": "3.6.4"
  }
 },
 "nbformat": 4,
 "nbformat_minor": 2
}
