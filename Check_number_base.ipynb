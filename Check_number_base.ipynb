{
 "cells": [
  {
   "cell_type": "code",
   "execution_count": 1,
   "metadata": {},
   "outputs": [
    {
     "name": "stdout",
     "output_type": "stream",
     "text": [
      "2\n",
      "1\n",
      "Base invalid\n"
     ]
    }
   ],
   "source": [
    "def check(base, num, i = 0):\n",
    "    #base = int\n",
    "    print(num)\n",
    "    print(base)\n",
    "    #\n",
    "    alphabet = [chr(i) for i in range(ord('a'),ord('z')+1)]\n",
    "    #\n",
    "    if int(base) < 2 or int(base) > 36:\n",
    "        print('Base invalid')\n",
    "    else:\n",
    "        if i >= len(num):\n",
    "            return (int(num,int(base)))\n",
    "        if not num[i].isdigit():\n",
    "            ch = num[i]\n",
    "            for a in alphabet:\n",
    "                if ch is a:\n",
    "                    val = (alphabet.index(a))\n",
    "                    print('b', base)\n",
    "                    if val == -1 or val + 10 >= int(base):\n",
    "                        return(print('Number Invalid'))\n",
    "        \n",
    "        elif int(num[i]) >= int(base):\n",
    "            return(print('Number Invalid'))\n",
    "        \n",
    "        return check(base, num, i + 1)\n",
    "\n",
    "check('1', '2')"
   ]
  },
  {
   "cell_type": "code",
   "execution_count": 2,
   "metadata": {},
   "outputs": [
    {
     "name": "stdout",
     "output_type": "stream",
     "text": [
      "a1\n",
      "11\n",
      "b 11\n",
      "a1\n",
      "11\n",
      "a1\n",
      "11\n"
     ]
    },
    {
     "data": {
      "text/plain": [
       "111"
      ]
     },
     "execution_count": 2,
     "metadata": {},
     "output_type": "execute_result"
    }
   ],
   "source": [
    "check('11', 'a1')"
   ]
  },
  {
   "cell_type": "code",
   "execution_count": null,
   "metadata": {
    "collapsed": true
   },
   "outputs": [],
   "source": []
  }
 ],
 "metadata": {
  "kernelspec": {
   "display_name": "Python 3",
   "language": "python",
   "name": "python3"
  },
  "language_info": {
   "codemirror_mode": {
    "name": "ipython",
    "version": 3
   },
   "file_extension": ".py",
   "mimetype": "text/x-python",
   "name": "python",
   "nbconvert_exporter": "python",
   "pygments_lexer": "ipython3",
   "version": "3.5.4"
  }
 },
 "nbformat": 4,
 "nbformat_minor": 2
}
