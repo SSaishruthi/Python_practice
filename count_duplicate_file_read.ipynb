{
 "cells": [
  {
   "cell_type": "code",
   "execution_count": 126,
   "metadata": {},
   "outputs": [
    {
     "name": "stdout",
     "output_type": "stream",
     "text": [
      "['f', 'i', 'n', 'd', 'g']\n",
      "i\n",
      "['a', 'b', 'c']\n",
      "a\n"
     ]
    }
   ],
   "source": [
    "def FindDuplicates(inp_list):\n",
    "    unique_values = sorted(set(inp_list), key=inp_list.index)\n",
    "    print(unique_values)\n",
    "    for val in unique_values:  \n",
    "        count = inp_list.count(val) \n",
    "        if count > 1: \n",
    "            print(val)\n",
    "            return val\n",
    "     \n",
    "     \n",
    "if __name__ == '__main__':  \n",
    "  \n",
    "    # test it  \n",
    "    #a = [8, 8,8, 64,64,64, 16, 32, 4, 24]  \n",
    "    #b = [2,2,3,6,78,65,4,4,5]  \n",
    "    b = ['a','b','c','b','a']\n",
    "    a = ['f', 'i', 'n','d','i', 'n', 'g']\n",
    "  \n",
    "    #sortAndUniq(a)\n",
    "    #sortAndUniq(b)\n",
    "    \n",
    "    FindDuplicates(a)\n",
    "    FindDuplicates(b)"
   ]
  },
  {
   "cell_type": "code",
   "execution_count": null,
   "metadata": {
    "collapsed": true
   },
   "outputs": [],
   "source": [
    "c_filename = []\n",
    "cpp_filename = []\n",
    "cs_filename = []\n",
    "fp =  open('C://Users//saish//Desktop//file.txt', 'r')\n",
    "fp1 = open('C://Users//saish//Desktop//c_names_list_00.txt', 'w')\n",
    "fp2 = open('C://Users//saish//Desktop//cpp_names_list_00.txt', 'w')\n",
    "fp3 = open('C://Users//saish//Desktop//cs_names_list_00.txt', 'w')"
   ]
  },
  {
   "cell_type": "code",
   "execution_count": null,
   "metadata": {},
   "outputs": [],
   "source": [
    "a = fp.readlines()\n",
    "for val in a:\n",
    "    a = val.strip().split(\".\") \n",
    "    if (a[1] == 'c'):\n",
    "        c_filename.append(a[0])\n",
    "    elif (a[1] == 'cpp'):\n",
    "        cpp_filename.append(a[0])\n",
    "    elif (a[1] == 'cs'):\n",
    "        cs_filename.append(a[0])\n",
    "\n",
    "        \n",
    "       \n",
    "#fp1.write(val'\\n')\n",
    "#fp1.close()\n",
    "#fp2.close()\n",
    "#fp3.close()"
   ]
  },
  {
   "cell_type": "code",
   "execution_count": null,
   "metadata": {},
   "outputs": [],
   "source": [
    "c_filename"
   ]
  },
  {
   "cell_type": "code",
   "execution_count": null,
   "metadata": {},
   "outputs": [],
   "source": [
    "cpp_filename"
   ]
  },
  {
   "cell_type": "code",
   "execution_count": null,
   "metadata": {},
   "outputs": [],
   "source": [
    "cs_filename"
   ]
  },
  {
   "cell_type": "code",
   "execution_count": null,
   "metadata": {
    "collapsed": true
   },
   "outputs": [],
   "source": [
    "d = {'Name': 'Zabra', 'Age': 7, 'N': 'sai', 'A': 10}"
   ]
  },
  {
   "cell_type": "code",
   "execution_count": null,
   "metadata": {},
   "outputs": [],
   "source": [
    "a = d.values()"
   ]
  },
  {
   "cell_type": "code",
   "execution_count": null,
   "metadata": {},
   "outputs": [],
   "source": [
    "for k, v in d.items(): \n",
    "    print (k)"
   ]
  },
  {
   "cell_type": "code",
   "execution_count": null,
   "metadata": {},
   "outputs": [],
   "source": [
    "d['Name']"
   ]
  },
  {
   "cell_type": "code",
   "execution_count": null,
   "metadata": {},
   "outputs": [],
   "source": [
    "a"
   ]
  }
 ],
 "metadata": {
  "kernelspec": {
   "display_name": "Python 3",
   "language": "python",
   "name": "python3"
  },
  "language_info": {
   "codemirror_mode": {
    "name": "ipython",
    "version": 3
   },
   "file_extension": ".py",
   "mimetype": "text/x-python",
   "name": "python",
   "nbconvert_exporter": "python",
   "pygments_lexer": "ipython3",
   "version": "3.5.4"
  }
 },
 "nbformat": 4,
 "nbformat_minor": 2
}
